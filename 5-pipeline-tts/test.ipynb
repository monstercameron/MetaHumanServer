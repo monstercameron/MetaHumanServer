{
 "cells": [
  {
   "cell_type": "code",
   "execution_count": 1,
   "metadata": {},
   "outputs": [
    {
     "name": "stderr",
     "output_type": "stream",
     "text": [
      "c:\\Users\\Cam_ws_win\\.conda\\envs\\metahumanserver\\lib\\site-packages\\tqdm\\auto.py:22: TqdmWarning: IProgress not found. Please update jupyter and ipywidgets. See https://ipywidgets.readthedocs.io/en/stable/user_install.html\n",
      "  from .autonotebook import tqdm as notebook_tqdm\n"
     ]
    },
    {
     "name": "stdout",
     "output_type": "stream",
     "text": [
      " > tts_models/en/vctk/vits is already downloaded.\n",
      " > Using model: vits\n",
      " > Setting up Audio Processor...\n",
      " | > sample_rate:22050\n",
      " | > resample:False\n",
      " | > num_mels:80\n",
      " | > log_func:np.log10\n",
      " | > min_level_db:0\n",
      " | > frame_shift_ms:None\n",
      " | > frame_length_ms:None\n",
      " | > ref_level_db:None\n",
      " | > fft_size:1024\n",
      " | > power:None\n",
      " | > preemphasis:0.0\n",
      " | > griffin_lim_iters:None\n",
      " | > signal_norm:None\n",
      " | > symmetric_norm:None\n",
      " | > mel_fmin:0\n",
      " | > mel_fmax:None\n",
      " | > pitch_fmin:None\n",
      " | > pitch_fmax:None\n",
      " | > spec_gain:20.0\n",
      " | > stft_pad_mode:reflect\n",
      " | > max_norm:1.0\n",
      " | > clip_norm:True\n",
      " | > do_trim_silence:False\n",
      " | > trim_db:60\n",
      " | > do_sound_norm:False\n",
      " | > do_amp_to_db_linear:True\n",
      " | > do_amp_to_db_mel:True\n",
      " | > do_rms_norm:False\n",
      " | > db_level:None\n",
      " | > stats_path:None\n",
      " | > base:10\n",
      " | > hop_length:256\n",
      " | > win_length:1024\n",
      " > initialization of speaker-embedding layers.\n",
      " > Text splitted to sentences.\n",
      "[\"In today's world, we have access to some incredible technology.\", 'Take, for example, the person we see sitting in front of their computer.', 'They are using not one but two cutting-edge AI models to create music.', \"The graphics card they're using is running a stable diffusion AI model that generates music.\", 'Meanwhile, the server grade CPU is running a 30 billion parameter model.', 'Together, these two models allow this person to create music that is truly unique and groundbreaking.', 'As we can see from the footage of the AI models in action, the results are simply stunning.', 'These AI models can create music that is complex, nuanced, and deeply emotional.', \"But it's not just about the music.\", \"It's also about the incredible technology that is making it possible.\", 'With these two AI models, we are seeing the future of music creation, and it is truly exciting.', \"So, if you're looking for a glimpse into what the future of music might look like, look no further than these amazing AI models.\"]\n",
      " > Processing time: 6.767999649047852\n",
      " > Real-time factor: 0.1269276239228141\n"
     ]
    },
    {
     "data": {
      "text/plain": [
       "'D:/repos/metahumanserver/samples/output.wav'"
      ]
     },
     "execution_count": 1,
     "metadata": {},
     "output_type": "execute_result"
    }
   ],
   "source": [
    "from index import generate_audio\n",
    "\n",
    "monologue = '''In today's world, we have access to some incredible technology. Take, for example, the person we see sitting in front of their computer. They are using not one but two cutting-edge AI models to create music.\n",
    "\n",
    "The graphics card they're using is running a stable diffusion AI model that generates music. Meanwhile, the server grade CPU is running a 30 billion parameter model. Together, these two models allow this person to create music that is truly unique and groundbreaking.\n",
    "\n",
    "As we can see from the footage of the AI models in action, the results are simply stunning. These AI models can create music that is complex, nuanced, and deeply emotional.\n",
    "\n",
    "But it's not just about the music. It's also about the incredible technology that is making it possible. With these two AI models, we are seeing the future of music creation, and it is truly exciting.\n",
    "\n",
    "So, if you're looking for a glimpse into what the future of music might look like, look no further than these amazing AI models.'''\n",
    "\n",
    "generate_audio(monologue)\n"
   ]
  }
 ],
 "metadata": {
  "kernelspec": {
   "display_name": "metahumanserver",
   "language": "python",
   "name": "python3"
  },
  "language_info": {
   "codemirror_mode": {
    "name": "ipython",
    "version": 3
   },
   "file_extension": ".py",
   "mimetype": "text/x-python",
   "name": "python",
   "nbconvert_exporter": "python",
   "pygments_lexer": "ipython3",
   "version": "3.8.16"
  },
  "orig_nbformat": 4
 },
 "nbformat": 4,
 "nbformat_minor": 2
}
